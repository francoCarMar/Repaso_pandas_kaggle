{
 "cells": [
  {
   "cell_type": "markdown",
   "id": "82bb7cf0",
   "metadata": {
    "papermill": {
     "duration": 0.006199,
     "end_time": "2025-10-25T04:23:46.458658",
     "exception": false,
     "start_time": "2025-10-25T04:23:46.452459",
     "status": "completed"
    },
    "tags": []
   },
   "source": [
    "**This notebook is an exercise in the [Pandas](https://www.kaggle.com/learn/pandas) course.  You can reference the tutorial at [this link](https://www.kaggle.com/residentmario/data-types-and-missing-values).**\n",
    "\n",
    "---\n"
   ]
  },
  {
   "cell_type": "markdown",
   "id": "fa8db3f4",
   "metadata": {
    "papermill": {
     "duration": 0.003347,
     "end_time": "2025-10-25T04:23:46.465804",
     "exception": false,
     "start_time": "2025-10-25T04:23:46.462457",
     "status": "completed"
    },
    "tags": []
   },
   "source": [
    "# Introduction\n",
    "\n",
    "Run the following cell to load your data and some utility functions."
   ]
  },
  {
   "cell_type": "code",
   "execution_count": 1,
   "id": "854cfb80",
   "metadata": {
    "execution": {
     "iopub.execute_input": "2025-10-25T04:23:46.474523Z",
     "iopub.status.busy": "2025-10-25T04:23:46.474146Z",
     "iopub.status.idle": "2025-10-25T04:23:51.569208Z",
     "shell.execute_reply": "2025-10-25T04:23:51.567942Z"
    },
    "papermill": {
     "duration": 5.101737,
     "end_time": "2025-10-25T04:23:51.571225",
     "exception": false,
     "start_time": "2025-10-25T04:23:46.469488",
     "status": "completed"
    },
    "tags": []
   },
   "outputs": [
    {
     "name": "stdout",
     "output_type": "stream",
     "text": [
      "Setup complete.\n"
     ]
    }
   ],
   "source": [
    "import pandas as pd\n",
    "\n",
    "reviews = pd.read_csv(\"../input/wine-reviews/winemag-data-130k-v2.csv\", index_col=0)\n",
    "\n",
    "from learntools.core import binder; binder.bind(globals())\n",
    "from learntools.pandas.data_types_and_missing_data import *\n",
    "print(\"Setup complete.\")"
   ]
  },
  {
   "cell_type": "markdown",
   "id": "a48bbf1f",
   "metadata": {
    "papermill": {
     "duration": 0.003932,
     "end_time": "2025-10-25T04:23:51.579054",
     "exception": false,
     "start_time": "2025-10-25T04:23:51.575122",
     "status": "completed"
    },
    "tags": []
   },
   "source": [
    "# Exercises"
   ]
  },
  {
   "cell_type": "markdown",
   "id": "593a05a2",
   "metadata": {
    "papermill": {
     "duration": 0.003242,
     "end_time": "2025-10-25T04:23:51.585979",
     "exception": false,
     "start_time": "2025-10-25T04:23:51.582737",
     "status": "completed"
    },
    "tags": []
   },
   "source": [
    "## 1. \n",
    "What is the data type of the `points` column in the dataset?"
   ]
  },
  {
   "cell_type": "code",
   "execution_count": 2,
   "id": "19b41dbe",
   "metadata": {
    "execution": {
     "iopub.execute_input": "2025-10-25T04:23:51.594369Z",
     "iopub.status.busy": "2025-10-25T04:23:51.594028Z",
     "iopub.status.idle": "2025-10-25T04:23:51.602213Z",
     "shell.execute_reply": "2025-10-25T04:23:51.601447Z"
    },
    "papermill": {
     "duration": 0.014271,
     "end_time": "2025-10-25T04:23:51.603612",
     "exception": false,
     "start_time": "2025-10-25T04:23:51.589341",
     "status": "completed"
    },
    "tags": []
   },
   "outputs": [
    {
     "data": {
      "application/javascript": [
       "parent.postMessage({\"jupyterEvent\": \"custom.exercise_interaction\", \"data\": {\"outcomeType\": 1, \"valueTowardsCompletion\": 0.25, \"interactionType\": 1, \"questionType\": 1, \"questionId\": \"1_PointsDtype\", \"learnToolsVersion\": \"0.3.5\", \"failureMessage\": \"\", \"exceptionClass\": \"\", \"trace\": \"\"}}, \"*\")"
      ],
      "text/plain": [
       "<IPython.core.display.Javascript object>"
      ]
     },
     "metadata": {},
     "output_type": "display_data"
    },
    {
     "data": {
      "text/markdown": [
       "<span style=\"color:#33cc33\">Correct</span>"
      ],
      "text/plain": [
       "Correct"
      ]
     },
     "metadata": {},
     "output_type": "display_data"
    }
   ],
   "source": [
    "# Your code here\n",
    "dtype = reviews.points.dtype\n",
    "\n",
    "# Check your answer\n",
    "q1.check()"
   ]
  },
  {
   "cell_type": "code",
   "execution_count": 3,
   "id": "ef9a2927",
   "metadata": {
    "execution": {
     "iopub.execute_input": "2025-10-25T04:23:51.613127Z",
     "iopub.status.busy": "2025-10-25T04:23:51.612241Z",
     "iopub.status.idle": "2025-10-25T04:23:51.616636Z",
     "shell.execute_reply": "2025-10-25T04:23:51.615657Z"
    },
    "papermill": {
     "duration": 0.010673,
     "end_time": "2025-10-25T04:23:51.618296",
     "exception": false,
     "start_time": "2025-10-25T04:23:51.607623",
     "status": "completed"
    },
    "tags": []
   },
   "outputs": [],
   "source": [
    "#q1.hint()\n",
    "#q1.solution()"
   ]
  },
  {
   "cell_type": "markdown",
   "id": "67a11d88",
   "metadata": {
    "papermill": {
     "duration": 0.003547,
     "end_time": "2025-10-25T04:23:51.625881",
     "exception": false,
     "start_time": "2025-10-25T04:23:51.622334",
     "status": "completed"
    },
    "tags": []
   },
   "source": [
    "## 2. \n",
    "Create a Series from entries in the `points` column, but convert the entries to strings. Hint: strings are `str` in native Python."
   ]
  },
  {
   "cell_type": "code",
   "execution_count": 4,
   "id": "ac649217",
   "metadata": {
    "execution": {
     "iopub.execute_input": "2025-10-25T04:23:51.635086Z",
     "iopub.status.busy": "2025-10-25T04:23:51.634248Z",
     "iopub.status.idle": "2025-10-25T04:23:51.678435Z",
     "shell.execute_reply": "2025-10-25T04:23:51.677466Z"
    },
    "papermill": {
     "duration": 0.050456,
     "end_time": "2025-10-25T04:23:51.680063",
     "exception": false,
     "start_time": "2025-10-25T04:23:51.629607",
     "status": "completed"
    },
    "tags": []
   },
   "outputs": [
    {
     "data": {
      "application/javascript": [
       "parent.postMessage({\"jupyterEvent\": \"custom.exercise_interaction\", \"data\": {\"outcomeType\": 1, \"valueTowardsCompletion\": 0.25, \"interactionType\": 1, \"questionType\": 1, \"questionId\": \"2_StrPoints\", \"learnToolsVersion\": \"0.3.5\", \"failureMessage\": \"\", \"exceptionClass\": \"\", \"trace\": \"\"}}, \"*\")"
      ],
      "text/plain": [
       "<IPython.core.display.Javascript object>"
      ]
     },
     "metadata": {},
     "output_type": "display_data"
    },
    {
     "data": {
      "text/markdown": [
       "<span style=\"color:#33cc33\">Correct</span>"
      ],
      "text/plain": [
       "Correct"
      ]
     },
     "metadata": {},
     "output_type": "display_data"
    }
   ],
   "source": [
    "point_strings = reviews.points.astype('str')\n",
    "\n",
    "# Check your answer\n",
    "q2.check()"
   ]
  },
  {
   "cell_type": "code",
   "execution_count": 5,
   "id": "5d219c1a",
   "metadata": {
    "execution": {
     "iopub.execute_input": "2025-10-25T04:23:51.689647Z",
     "iopub.status.busy": "2025-10-25T04:23:51.689300Z",
     "iopub.status.idle": "2025-10-25T04:23:51.693705Z",
     "shell.execute_reply": "2025-10-25T04:23:51.692773Z"
    },
    "papermill": {
     "duration": 0.011066,
     "end_time": "2025-10-25T04:23:51.695212",
     "exception": false,
     "start_time": "2025-10-25T04:23:51.684146",
     "status": "completed"
    },
    "tags": []
   },
   "outputs": [],
   "source": [
    "#q2.hint()\n",
    "#q2.solution()"
   ]
  },
  {
   "cell_type": "markdown",
   "id": "9c94f391",
   "metadata": {
    "papermill": {
     "duration": 0.003884,
     "end_time": "2025-10-25T04:23:51.703534",
     "exception": false,
     "start_time": "2025-10-25T04:23:51.699650",
     "status": "completed"
    },
    "tags": []
   },
   "source": [
    "## 3.\n",
    "Sometimes the price column is null. How many reviews in the dataset are missing a price?"
   ]
  },
  {
   "cell_type": "code",
   "execution_count": 6,
   "id": "bfb446a7",
   "metadata": {
    "execution": {
     "iopub.execute_input": "2025-10-25T04:23:51.713681Z",
     "iopub.status.busy": "2025-10-25T04:23:51.712813Z",
     "iopub.status.idle": "2025-10-25T04:23:51.726731Z",
     "shell.execute_reply": "2025-10-25T04:23:51.725481Z"
    },
    "papermill": {
     "duration": 0.020558,
     "end_time": "2025-10-25T04:23:51.728293",
     "exception": false,
     "start_time": "2025-10-25T04:23:51.707735",
     "status": "completed"
    },
    "tags": []
   },
   "outputs": [
    {
     "name": "stdout",
     "output_type": "stream",
     "text": [
      "8996\n"
     ]
    }
   ],
   "source": [
    "n = len(reviews[reviews.price.isnull()])\n",
    "print(n)"
   ]
  },
  {
   "cell_type": "code",
   "execution_count": 7,
   "id": "83198ece",
   "metadata": {
    "execution": {
     "iopub.execute_input": "2025-10-25T04:23:51.738149Z",
     "iopub.status.busy": "2025-10-25T04:23:51.737891Z",
     "iopub.status.idle": "2025-10-25T04:23:51.746975Z",
     "shell.execute_reply": "2025-10-25T04:23:51.745731Z"
    },
    "papermill": {
     "duration": 0.015737,
     "end_time": "2025-10-25T04:23:51.748526",
     "exception": false,
     "start_time": "2025-10-25T04:23:51.732789",
     "status": "completed"
    },
    "tags": []
   },
   "outputs": [
    {
     "data": {
      "application/javascript": [
       "parent.postMessage({\"jupyterEvent\": \"custom.exercise_interaction\", \"data\": {\"outcomeType\": 1, \"valueTowardsCompletion\": 0.25, \"interactionType\": 1, \"questionType\": 1, \"questionId\": \"3_CountMissingPrices\", \"learnToolsVersion\": \"0.3.5\", \"failureMessage\": \"\", \"exceptionClass\": \"\", \"trace\": \"\"}}, \"*\")"
      ],
      "text/plain": [
       "<IPython.core.display.Javascript object>"
      ]
     },
     "metadata": {},
     "output_type": "display_data"
    },
    {
     "data": {
      "text/markdown": [
       "<span style=\"color:#33cc33\">Correct</span>"
      ],
      "text/plain": [
       "Correct"
      ]
     },
     "metadata": {},
     "output_type": "display_data"
    }
   ],
   "source": [
    "n_missing_prices = reviews.price.isnull().sum()\n",
    "\n",
    "# Check your answer\n",
    "q3.check()"
   ]
  },
  {
   "cell_type": "code",
   "execution_count": 8,
   "id": "8d309d49",
   "metadata": {
    "execution": {
     "iopub.execute_input": "2025-10-25T04:23:51.758876Z",
     "iopub.status.busy": "2025-10-25T04:23:51.757960Z",
     "iopub.status.idle": "2025-10-25T04:23:51.768725Z",
     "shell.execute_reply": "2025-10-25T04:23:51.767795Z"
    },
    "papermill": {
     "duration": 0.017344,
     "end_time": "2025-10-25T04:23:51.770275",
     "exception": false,
     "start_time": "2025-10-25T04:23:51.752931",
     "status": "completed"
    },
    "tags": []
   },
   "outputs": [
    {
     "data": {
      "application/javascript": [
       "parent.postMessage({\"jupyterEvent\": \"custom.exercise_interaction\", \"data\": {\"interactionType\": 2, \"questionType\": 1, \"questionId\": \"3_CountMissingPrices\", \"learnToolsVersion\": \"0.3.5\", \"valueTowardsCompletion\": 0.0, \"failureMessage\": \"\", \"exceptionClass\": \"\", \"trace\": \"\", \"outcomeType\": 4}}, \"*\")"
      ],
      "text/plain": [
       "<IPython.core.display.Javascript object>"
      ]
     },
     "metadata": {},
     "output_type": "display_data"
    },
    {
     "data": {
      "text/markdown": [
       "<span style=\"color:#3366cc\">Hint:</span> Use `pd.isnull()`."
      ],
      "text/plain": [
       "Hint: Use `pd.isnull()`."
      ]
     },
     "metadata": {},
     "output_type": "display_data"
    },
    {
     "data": {
      "application/javascript": [
       "parent.postMessage({\"jupyterEvent\": \"custom.exercise_interaction\", \"data\": {\"interactionType\": 3, \"questionType\": 1, \"questionId\": \"3_CountMissingPrices\", \"learnToolsVersion\": \"0.3.5\", \"valueTowardsCompletion\": 0.0, \"failureMessage\": \"\", \"exceptionClass\": \"\", \"trace\": \"\", \"outcomeType\": 4}}, \"*\")"
      ],
      "text/plain": [
       "<IPython.core.display.Javascript object>"
      ]
     },
     "metadata": {},
     "output_type": "display_data"
    },
    {
     "data": {
      "text/markdown": [
       "<span style=\"color:#33cc99\">Solution:</span> \n",
       "```python\n",
       "missing_price_reviews = reviews[reviews.price.isnull()]\n",
       "n_missing_prices = len(missing_price_reviews)\n",
       "# Cute alternative solution: if we sum a boolean series, True is treated as 1 and False as 0\n",
       "n_missing_prices = reviews.price.isnull().sum()\n",
       "# or equivalently:\n",
       "n_missing_prices = pd.isnull(reviews.price).sum()\n",
       "\n",
       "```"
      ],
      "text/plain": [
       "Solution: \n",
       "```python\n",
       "missing_price_reviews = reviews[reviews.price.isnull()]\n",
       "n_missing_prices = len(missing_price_reviews)\n",
       "# Cute alternative solution: if we sum a boolean series, True is treated as 1 and False as 0\n",
       "n_missing_prices = reviews.price.isnull().sum()\n",
       "# or equivalently:\n",
       "n_missing_prices = pd.isnull(reviews.price).sum()\n",
       "\n",
       "```"
      ]
     },
     "metadata": {},
     "output_type": "display_data"
    }
   ],
   "source": [
    "q3.hint()\n",
    "q3.solution()"
   ]
  },
  {
   "cell_type": "markdown",
   "id": "68ff3cd3",
   "metadata": {
    "papermill": {
     "duration": 0.004433,
     "end_time": "2025-10-25T04:23:51.779354",
     "exception": false,
     "start_time": "2025-10-25T04:23:51.774921",
     "status": "completed"
    },
    "tags": []
   },
   "source": [
    "## 4.\n",
    "What are the most common wine-producing regions? Create a Series counting the number of times each value occurs in the `region_1` field. This field is often missing data, so replace missing values with `Unknown`. Sort in descending order.  Your output should look something like this:\n",
    "\n",
    "```\n",
    "Unknown                    21247\n",
    "Napa Valley                 4480\n",
    "                           ...  \n",
    "Bardolino Superiore            1\n",
    "Primitivo del Tarantino        1\n",
    "Name: region_1, Length: 1230, dtype: int64\n",
    "```"
   ]
  },
  {
   "cell_type": "code",
   "execution_count": 9,
   "id": "5f9505ad",
   "metadata": {
    "execution": {
     "iopub.execute_input": "2025-10-25T04:23:51.789456Z",
     "iopub.status.busy": "2025-10-25T04:23:51.789135Z",
     "iopub.status.idle": "2025-10-25T04:23:51.818905Z",
     "shell.execute_reply": "2025-10-25T04:23:51.817353Z"
    },
    "papermill": {
     "duration": 0.036859,
     "end_time": "2025-10-25T04:23:51.820631",
     "exception": false,
     "start_time": "2025-10-25T04:23:51.783772",
     "status": "completed"
    },
    "tags": []
   },
   "outputs": [
    {
     "name": "stdout",
     "output_type": "stream",
     "text": [
      "region_1\n",
      "Unknown                 21247\n",
      "Napa Valley              4480\n",
      "Columbia Valley (WA)     4124\n",
      "Russian River Valley     3091\n",
      "California               2629\n",
      "                        ...  \n",
      "Offida Rosso                1\n",
      "Corton Perrières            1\n",
      "Isle St. George             1\n",
      "Geelong                     1\n",
      "Paestum                     1\n",
      "Name: count, Length: 1230, dtype: int64\n"
     ]
    }
   ],
   "source": [
    "a = reviews.region_1.fillna('Unknown').value_counts().sort_values(ascending = False)\n",
    "print(a)"
   ]
  },
  {
   "cell_type": "code",
   "execution_count": 10,
   "id": "a04541ea",
   "metadata": {
    "execution": {
     "iopub.execute_input": "2025-10-25T04:23:51.831777Z",
     "iopub.status.busy": "2025-10-25T04:23:51.830973Z",
     "iopub.status.idle": "2025-10-25T04:23:51.858547Z",
     "shell.execute_reply": "2025-10-25T04:23:51.857673Z"
    },
    "papermill": {
     "duration": 0.034771,
     "end_time": "2025-10-25T04:23:51.860146",
     "exception": false,
     "start_time": "2025-10-25T04:23:51.825375",
     "status": "completed"
    },
    "tags": []
   },
   "outputs": [
    {
     "data": {
      "application/javascript": [
       "parent.postMessage({\"jupyterEvent\": \"custom.exercise_interaction\", \"data\": {\"outcomeType\": 1, \"valueTowardsCompletion\": 0.25, \"interactionType\": 1, \"questionType\": 2, \"questionId\": \"4_ReviewsPerRegion\", \"learnToolsVersion\": \"0.3.5\", \"failureMessage\": \"\", \"exceptionClass\": \"\", \"trace\": \"\"}}, \"*\")"
      ],
      "text/plain": [
       "<IPython.core.display.Javascript object>"
      ]
     },
     "metadata": {},
     "output_type": "display_data"
    },
    {
     "data": {
      "text/markdown": [
       "<span style=\"color:#33cc33\">Correct</span>"
      ],
      "text/plain": [
       "Correct"
      ]
     },
     "metadata": {},
     "output_type": "display_data"
    }
   ],
   "source": [
    "\n",
    "reviews_per_region = a\n",
    "\n",
    "# Check your answer\n",
    "q4.check()"
   ]
  },
  {
   "cell_type": "code",
   "execution_count": 11,
   "id": "647bb04a",
   "metadata": {
    "execution": {
     "iopub.execute_input": "2025-10-25T04:23:51.871349Z",
     "iopub.status.busy": "2025-10-25T04:23:51.871065Z",
     "iopub.status.idle": "2025-10-25T04:23:51.881992Z",
     "shell.execute_reply": "2025-10-25T04:23:51.881060Z"
    },
    "papermill": {
     "duration": 0.018223,
     "end_time": "2025-10-25T04:23:51.883411",
     "exception": false,
     "start_time": "2025-10-25T04:23:51.865188",
     "status": "completed"
    },
    "tags": []
   },
   "outputs": [
    {
     "data": {
      "application/javascript": [
       "parent.postMessage({\"jupyterEvent\": \"custom.exercise_interaction\", \"data\": {\"interactionType\": 2, \"questionType\": 2, \"questionId\": \"4_ReviewsPerRegion\", \"learnToolsVersion\": \"0.3.5\", \"valueTowardsCompletion\": 0.0, \"failureMessage\": \"\", \"exceptionClass\": \"\", \"trace\": \"\", \"outcomeType\": 4}}, \"*\")"
      ],
      "text/plain": [
       "<IPython.core.display.Javascript object>"
      ]
     },
     "metadata": {},
     "output_type": "display_data"
    },
    {
     "data": {
      "text/markdown": [
       "<span style=\"color:#3366cc\">Hint:</span> Use `fillna()`, `value_counts()`, and `sort_values()`."
      ],
      "text/plain": [
       "Hint: Use `fillna()`, `value_counts()`, and `sort_values()`."
      ]
     },
     "metadata": {},
     "output_type": "display_data"
    },
    {
     "data": {
      "application/javascript": [
       "parent.postMessage({\"jupyterEvent\": \"custom.exercise_interaction\", \"data\": {\"interactionType\": 3, \"questionType\": 2, \"questionId\": \"4_ReviewsPerRegion\", \"learnToolsVersion\": \"0.3.5\", \"valueTowardsCompletion\": 0.0, \"failureMessage\": \"\", \"exceptionClass\": \"\", \"trace\": \"\", \"outcomeType\": 4}}, \"*\")"
      ],
      "text/plain": [
       "<IPython.core.display.Javascript object>"
      ]
     },
     "metadata": {},
     "output_type": "display_data"
    },
    {
     "data": {
      "text/markdown": [
       "<span style=\"color:#33cc99\">Solution:</span> \n",
       "```python\n",
       "reviews_per_region = reviews.region_1.fillna('Unknown').value_counts().sort_values(ascending=False)\n",
       "```"
      ],
      "text/plain": [
       "Solution: \n",
       "```python\n",
       "reviews_per_region = reviews.region_1.fillna('Unknown').value_counts().sort_values(ascending=False)\n",
       "```"
      ]
     },
     "metadata": {},
     "output_type": "display_data"
    }
   ],
   "source": [
    "q4.hint()\n",
    "q4.solution()"
   ]
  },
  {
   "cell_type": "markdown",
   "id": "30b7dd42",
   "metadata": {
    "papermill": {
     "duration": 0.004843,
     "end_time": "2025-10-25T04:23:51.893711",
     "exception": false,
     "start_time": "2025-10-25T04:23:51.888868",
     "status": "completed"
    },
    "tags": []
   },
   "source": [
    "# Keep going\n",
    "\n",
    "Move on to **[renaming and combining](https://www.kaggle.com/residentmario/renaming-and-combining)**."
   ]
  },
  {
   "cell_type": "markdown",
   "id": "9357cb96",
   "metadata": {
    "papermill": {
     "duration": 0.004904,
     "end_time": "2025-10-25T04:23:51.903834",
     "exception": false,
     "start_time": "2025-10-25T04:23:51.898930",
     "status": "completed"
    },
    "tags": []
   },
   "source": [
    "---\n",
    "\n",
    "\n",
    "\n",
    "\n",
    "*Have questions or comments? Visit the [course discussion forum](https://www.kaggle.com/learn/pandas/discussion) to chat with other learners.*"
   ]
  }
 ],
 "metadata": {
  "kaggle": {
   "accelerator": "none",
   "dataSources": [
    {
     "datasetId": 655,
     "sourceId": 1252,
     "sourceType": "datasetVersion"
    },
    {
     "datasetId": 2321,
     "sourceId": 3919,
     "sourceType": "datasetVersion"
    },
    {
     "datasetId": 2894,
     "sourceId": 4877,
     "sourceType": "datasetVersion"
    },
    {
     "datasetId": 3491,
     "sourceId": 5624,
     "sourceType": "datasetVersion"
    },
    {
     "datasetId": 1442,
     "sourceId": 8172,
     "sourceType": "datasetVersion"
    },
    {
     "datasetId": 9366,
     "sourceId": 13206,
     "sourceType": "datasetVersion"
    },
    {
     "datasetId": 179555,
     "sourceId": 403916,
     "sourceType": "datasetVersion"
    },
    {
     "datasetId": 4549,
     "sourceId": 466349,
     "sourceType": "datasetVersion"
    },
    {
     "datasetId": 2478,
     "sourceId": 1151655,
     "sourceType": "datasetVersion"
    },
    {
     "datasetId": 10128,
     "sourceId": 5438389,
     "sourceType": "datasetVersion"
    }
   ],
   "isGpuEnabled": false,
   "isInternetEnabled": false,
   "language": "python",
   "sourceType": "notebook"
  },
  "kernelspec": {
   "display_name": "Python 3",
   "language": "python",
   "name": "python3"
  },
  "language_info": {
   "codemirror_mode": {
    "name": "ipython",
    "version": 3
   },
   "file_extension": ".py",
   "mimetype": "text/x-python",
   "name": "python",
   "nbconvert_exporter": "python",
   "pygments_lexer": "ipython3",
   "version": "3.11.13"
  },
  "papermill": {
   "default_parameters": {},
   "duration": 11.285591,
   "end_time": "2025-10-25T04:23:52.529692",
   "environment_variables": {},
   "exception": null,
   "input_path": "__notebook__.ipynb",
   "output_path": "__notebook__.ipynb",
   "parameters": {},
   "start_time": "2025-10-25T04:23:41.244101",
   "version": "2.6.0"
  }
 },
 "nbformat": 4,
 "nbformat_minor": 5
}
